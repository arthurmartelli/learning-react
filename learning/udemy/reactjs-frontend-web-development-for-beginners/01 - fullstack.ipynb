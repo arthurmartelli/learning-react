{
 "cells": [
  {
   "attachments": {},
   "cell_type": "markdown",
   "metadata": {},
   "source": [
    "# Learning Javascript\n",
    "\n",
    "## Declaring variables\n",
    "\n",
    "The variables in JavaScript can be declared in 3 different ways since ES6:\n",
    "\n",
    "- `var`: not recommended (deprecated), it creates a mutable variable and appends it to the `window` object. The variable becomes global.\n",
    "- `let`: creates a local mutable variable.\n",
    "- `const`: creates a local immutable variable."
   ]
  },
  {
   "cell_type": "code",
   "execution_count": null,
   "metadata": {
    "dotnet_interactive": {
     "language": "javascript"
    },
    "polyglot_notebook": {
     "kernelName": "javascript"
    },
    "vscode": {
     "languageId": "polyglot-notebook"
    }
   },
   "outputs": [],
   "source": [
    "// old way\n",
    "var first_name = \"Ryan\"; // is part of the `window` object\n",
    "first_name = \"Sally\";\n",
    "console.log(first_name);\n",
    "\n",
    "// new way;\n",
    "const new_name = \"Ryan\"; // mutable\n",
    "console.log(new_name)\n",
    "let new_name2 = \"Ryan\"; // immutable and does not become part of the `window` object\n",
    "console.log(new_name2)"
   ]
  },
  {
   "attachments": {},
   "cell_type": "markdown",
   "metadata": {},
   "source": [
    "## Template String\n",
    "\n",
    "Template strings allow you to represent strings in a more concise and readable way than string concatenation.\n"
   ]
  },
  {
   "cell_type": "code",
   "execution_count": null,
   "metadata": {
    "dotnet_interactive": {
     "language": "javascript"
    },
    "polyglot_notebook": {
     "kernelName": "javascript"
    },
    "vscode": {
     "languageId": "polyglot-notebook"
    }
   },
   "outputs": [],
   "source": [
    "let first_name = \"Ryan\"\n",
    "let last_name = \"D.\"\n",
    "\n",
    "// old way\n",
    "let full_name_old = first_name + \" \" + last_name\n",
    "console.log(full_name_old)\n",
    "\n",
    "// new way\n",
    "let full_name = `${first_name} ${last_name}`\n",
    "console.log(full_name)"
   ]
  },
  {
   "attachments": {},
   "cell_type": "markdown",
   "metadata": {},
   "source": [
    "## Default Parameters\n",
    "\n",
    "In functions, default parameters help in providing a \"default behavior\"."
   ]
  },
  {
   "cell_type": "code",
   "execution_count": null,
   "metadata": {
    "dotnet_interactive": {
     "language": "javascript"
    },
    "polyglot_notebook": {
     "kernelName": "javascript"
    },
    "vscode": {
     "languageId": "polyglot-notebook"
    }
   },
   "outputs": [],
   "source": [
    "function welcome(user = \"Mystery person\", message = \"Good Day\") {\n",
    "    console.log(`Hello ${user}, ${message}`)\n",
    "}\n",
    "\n",
    "welcome(\"Ryan\", \"Good mornign\")\n",
    "welcome()"
   ]
  },
  {
   "attachments": {},
   "cell_type": "markdown",
   "metadata": {},
   "source": [
    "## Arrow Functions\n",
    "\n",
    "Arrow functions are a way of writing functions in JavaScript"
   ]
  },
  {
   "cell_type": "code",
   "execution_count": null,
   "metadata": {
    "dotnet_interactive": {
     "language": "javascript"
    },
    "polyglot_notebook": {
     "kernelName": "javascript"
    },
    "vscode": {
     "languageId": "polyglot-notebook"
    }
   },
   "outputs": [],
   "source": [
    "function welcome(user = \"Mystery person\", message = \"Good Day\") {\n",
    "    console.log(`Hello ${user}, ${message}`)\n",
    "}\n",
    "\n",
    "welcome = (user, message) => console.log(`Hello ${user}, ${message}`)"
   ]
  },
  {
   "attachments": {},
   "cell_type": "markdown",
   "metadata": {},
   "source": [
    "### `This` keyword\n",
    "\n",
    "The `this` keyword refers to the enclosing context in JavaScript, usually the window object. In arrow functions, "
   ]
  },
  {
   "cell_type": "code",
   "execution_count": null,
   "metadata": {
    "dotnet_interactive": {
     "language": "javascript"
    },
    "polyglot_notebook": {
     "kernelName": "javascript"
    },
    "vscode": {
     "languageId": "polyglot-notebook"
    }
   },
   "outputs": [],
   "source": [
    "let nepal = {\n",
    "    mountains: ['Everest', 'Fish Tail', 'Annapurna'],\n",
    "\n",
    "    printWithDash: function () {\n",
    "        setTimeout(() => console.log(this.mountains.join(' - ')), 3000);\n",
    "    }\n",
    "}\n",
    "\n",
    "nepal.printWithDash()"
   ]
  },
  {
   "attachments": {},
   "cell_type": "markdown",
   "metadata": {},
   "source": [
    "## Destructuring Objects\n",
    "\n",
    "The destructuring of an object in JavaScript allows you to access an object's value easier."
   ]
  },
  {
   "cell_type": "code",
   "execution_count": null,
   "metadata": {
    "dotnet_interactive": {
     "language": "javascript"
    },
    "polyglot_notebook": {
     "kernelName": "javascript"
    },
    "vscode": {
     "languageId": "polyglot-notebook"
    }
   },
   "outputs": [],
   "source": [
    "let todos = {\n",
    "    morning: \"Exersice\",\n",
    "    afternoon: \"Work\",\n",
    "    evening: \"Code\",\n",
    "    night: [\"Sleep\", \"Dream\"]\n",
    "}\n",
    "\n",
    "let {morning, afternoon} = todos\n",
    "console.log(`${todos.morning} - ${afternoon}`)\n",
    "\n",
    "let uniStudent = ({name, university}) => {\n",
    "    console.log(`${name} from ${university}`)    \n",
    "}\n",
    "\n",
    "uniStudent({\n",
    "    name: 'Ryan',\n",
    "    university: 'University of Sydney'\n",
    "})"
   ]
  },
  {
   "attachments": {},
   "cell_type": "markdown",
   "metadata": {},
   "source": [
    "## Array Destructuring\n",
    "\n",
    "Array destructuring works in order, assigning each variable to each element."
   ]
  },
  {
   "cell_type": "code",
   "execution_count": null,
   "metadata": {
    "dotnet_interactive": {
     "language": "javascript"
    },
    "polyglot_notebook": {
     "kernelName": "javascript"
    },
    "vscode": {
     "languageId": "polyglot-notebook"
    }
   },
   "outputs": [],
   "source": [
    "const mountains = [\"A\", \"B\", \"C\"]\n",
    "\n",
    "const [first] = mountains\n",
    "console.log(first)\n",
    "\n",
    "const [, second] = mountains\n",
    "console.log(second)\n",
    "\n",
    "const [,, third] = mountains\n",
    "console.log(third)"
   ]
  },
  {
   "attachments": {},
   "cell_type": "markdown",
   "metadata": {},
   "source": [
    "## Restructuring\n",
    "\n",
    "Allows you to change the structure of an object, adding and changing different attributes and methods."
   ]
  },
  {
   "cell_type": "code",
   "execution_count": null,
   "metadata": {
    "dotnet_interactive": {
     "language": "javascript"
    },
    "polyglot_notebook": {
     "kernelName": "javascript"
    },
    "vscode": {
     "languageId": "polyglot-notebook"
    }
   },
   "outputs": [],
   "source": [
    "let name = \"John\";\n",
    "let height = 1.75;\n",
    "const say_hi = function() { console.log(`Hello! ${this.name}`) };\n",
    "\n",
    "const adventurer = {\n",
    "    name, height, say_hi\n",
    "}\n",
    "\n",
    "adventurer.say_hi()"
   ]
  },
  {
   "attachments": {},
   "cell_type": "markdown",
   "metadata": {},
   "source": [
    "## Spread and Rest operator\n",
    "\n",
    "The spread and rest operator `...` will create a deep copy of the object it is used on. This is useful to make clones of arrays and objects."
   ]
  },
  {
   "cell_type": "code",
   "execution_count": 11,
   "metadata": {
    "dotnet_interactive": {
     "language": "javascript"
    },
    "polyglot_notebook": {
     "kernelName": "javascript"
    },
    "vscode": {
     "languageId": "polyglot-notebook"
    }
   },
   "outputs": [
    {
     "data": {
      "application/json": [
       "John",
       "Miguel",
       "Mike",
       "Carl"
      ]
     },
     "metadata": {},
     "output_type": "display_data"
    },
    {
     "data": {
      "application/json": {
       "breakfast": "toast",
       "dinner": "chicken",
       "lunch": "new lunch"
      }
     },
     "metadata": {},
     "output_type": "display_data"
    }
   ],
   "source": [
    "let names = ['John', 'Miguel']\n",
    "let more_names = ['Mike', 'Carl']\n",
    "\n",
    "let all_names = [...names, ...more_names]\n",
    "console.log(all_names)\n",
    "\n",
    "let day = {\n",
    "    breakfast: 'toast',\n",
    "    lunch: 'rice'\n",
    "}\n",
    "\n",
    "let night = {\n",
    "    dinner: 'chicken'\n",
    "}\n",
    "\n",
    "let all_foods = {\n",
    "    ...day,\n",
    "    ...night,\n",
    "    lunch: 'new lunch', // you can change presets\n",
    "}\n",
    "\n",
    "console.log(all_foods)\n"
   ]
  },
  {
   "attachments": {},
   "cell_type": "markdown",
   "metadata": {},
   "source": [
    "## Class constructor super\n",
    "\n",
    "In JavaScript, there are no classes, there are objects that hold methods and attributes. When creating an object, the prototype is also created."
   ]
  },
  {
   "cell_type": "code",
   "execution_count": 31,
   "metadata": {
    "dotnet_interactive": {
     "language": "javascript"
    },
    "polyglot_notebook": {
     "kernelName": "javascript"
    },
    "vscode": {
     "languageId": "polyglot-notebook"
    }
   },
   "outputs": [
    {
     "ename": "Error",
     "evalue": "'super' keyword unexpected here",
     "output_type": "error",
     "traceback": [
      "'super' keyword unexpected here"
     ]
    }
   ],
   "source": [
    "function Holiday(destination, days) {\n",
    "    this.destination = destination;\n",
    "    this.days = days;\n",
    "}\n",
    "\n",
    "Holiday.prototype.info = function() {\n",
    "    return `${this.destination} | ${this.days}`\n",
    "}\n",
    "\n",
    "let nepal = new Holiday('Nepal', 30) // has the .info() method\n",
    "\n",
    "// super class\n",
    "class NewHoliday {\n",
    "    constructor(destination, days) {\n",
    "        this.destination = destination\n",
    "        this.days = days\n",
    "    }\n",
    "\n",
    "    info() {\n",
    "        return `${this.destination} | ${this.days}`\n",
    "    }\n",
    "}\n",
    "\n",
    "const trip = new NewHoliday(\"San Salvador\", 15)\n",
    "\n",
    "// sub class\n",
    "class Expedition extends NewHoliday {\n",
    "    construction(destination, days, gear) {\n",
    "        super(destination, days) // calling parents class\n",
    "        this.gear = gear\n",
    "    }\n",
    "\n",
    "    info() {\n",
    "        let prev_info = super.info();\n",
    "        return `${prev_info} | Bring: ${this.gear.join(\", \")}`\n",
    "    }\n",
    "}\n",
    "\n",
    "const expedition = ('Brazil', 30, ['sunglasses', 'backpack'])\n",
    "console.log(expedition.info())\n"
   ]
  }
 ],
 "metadata": {
  "language_info": {
   "name": "python"
  },
  "orig_nbformat": 4
 },
 "nbformat": 4,
 "nbformat_minor": 2
}
